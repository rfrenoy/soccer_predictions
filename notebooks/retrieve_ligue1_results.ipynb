{
 "cells": [
  {
   "cell_type": "code",
   "execution_count": 3,
   "metadata": {},
   "outputs": [
    {
     "name": "stderr",
     "output_type": "stream",
     "text": [
      "/usr/local/miniconda3/envs/datadriver/lib/python2.7/site-packages/pandas/_libs/__init__.py:3: RuntimeWarning: numpy.dtype size changed, may indicate binary incompatibility. Expected 96, got 88\n",
      "  from .tslib import iNaT, NaT, Timestamp, Timedelta, OutOfBoundsDatetime\n",
      "/usr/local/miniconda3/envs/datadriver/lib/python2.7/site-packages/pandas/_libs/__init__.py:3: RuntimeWarning: numpy.ufunc size changed, may indicate binary incompatibility. Expected 192, got 176\n",
      "  from .tslib import iNaT, NaT, Timestamp, Timedelta, OutOfBoundsDatetime\n",
      "/usr/local/miniconda3/envs/datadriver/lib/python2.7/site-packages/pandas/__init__.py:26: RuntimeWarning: numpy.dtype size changed, may indicate binary incompatibility. Expected 96, got 88\n",
      "  from pandas._libs import (hashtable as _hashtable,\n",
      "/usr/local/miniconda3/envs/datadriver/lib/python2.7/site-packages/pandas/__init__.py:26: RuntimeWarning: numpy.ufunc size changed, may indicate binary incompatibility. Expected 192, got 176\n",
      "  from pandas._libs import (hashtable as _hashtable,\n",
      "/usr/local/miniconda3/envs/datadriver/lib/python2.7/site-packages/pandas/core/dtypes/common.py:6: RuntimeWarning: numpy.dtype size changed, may indicate binary incompatibility. Expected 96, got 88\n",
      "  from pandas._libs import algos, lib\n",
      "/usr/local/miniconda3/envs/datadriver/lib/python2.7/site-packages/pandas/core/dtypes/common.py:6: RuntimeWarning: numpy.ufunc size changed, may indicate binary incompatibility. Expected 192, got 176\n",
      "  from pandas._libs import algos, lib\n",
      "/usr/local/miniconda3/envs/datadriver/lib/python2.7/site-packages/pandas/core/util/hashing.py:7: RuntimeWarning: numpy.dtype size changed, may indicate binary incompatibility. Expected 96, got 88\n",
      "  from pandas._libs import hashing, tslib\n",
      "/usr/local/miniconda3/envs/datadriver/lib/python2.7/site-packages/pandas/core/util/hashing.py:7: RuntimeWarning: numpy.ufunc size changed, may indicate binary incompatibility. Expected 192, got 176\n",
      "  from pandas._libs import hashing, tslib\n",
      "/usr/local/miniconda3/envs/datadriver/lib/python2.7/site-packages/pandas/core/indexes/base.py:6: RuntimeWarning: numpy.dtype size changed, may indicate binary incompatibility. Expected 96, got 88\n",
      "  from pandas._libs import (lib, index as libindex, tslib as libts,\n",
      "/usr/local/miniconda3/envs/datadriver/lib/python2.7/site-packages/pandas/core/indexes/base.py:6: RuntimeWarning: numpy.ufunc size changed, may indicate binary incompatibility. Expected 192, got 176\n",
      "  from pandas._libs import (lib, index as libindex, tslib as libts,\n",
      "/usr/local/miniconda3/envs/datadriver/lib/python2.7/site-packages/pandas/core/indexes/datetimelike.py:28: RuntimeWarning: numpy.dtype size changed, may indicate binary incompatibility. Expected 96, got 88\n",
      "  from pandas._libs.period import Period\n",
      "/usr/local/miniconda3/envs/datadriver/lib/python2.7/site-packages/pandas/core/indexes/datetimelike.py:28: RuntimeWarning: numpy.ufunc size changed, may indicate binary incompatibility. Expected 192, got 176\n",
      "  from pandas._libs.period import Period\n",
      "/usr/local/miniconda3/envs/datadriver/lib/python2.7/site-packages/pandas/core/sparse/array.py:32: RuntimeWarning: numpy.dtype size changed, may indicate binary incompatibility. Expected 96, got 88\n",
      "  import pandas._libs.sparse as splib\n",
      "/usr/local/miniconda3/envs/datadriver/lib/python2.7/site-packages/pandas/core/sparse/array.py:32: RuntimeWarning: numpy.ufunc size changed, may indicate binary incompatibility. Expected 192, got 176\n",
      "  import pandas._libs.sparse as splib\n",
      "/usr/local/miniconda3/envs/datadriver/lib/python2.7/site-packages/pandas/core/window.py:36: RuntimeWarning: numpy.dtype size changed, may indicate binary incompatibility. Expected 96, got 88\n",
      "  import pandas._libs.window as _window\n",
      "/usr/local/miniconda3/envs/datadriver/lib/python2.7/site-packages/pandas/core/window.py:36: RuntimeWarning: numpy.ufunc size changed, may indicate binary incompatibility. Expected 192, got 176\n",
      "  import pandas._libs.window as _window\n",
      "/usr/local/miniconda3/envs/datadriver/lib/python2.7/site-packages/pandas/core/groupby.py:66: RuntimeWarning: numpy.dtype size changed, may indicate binary incompatibility. Expected 96, got 88\n",
      "  from pandas._libs import lib, groupby as libgroupby, Timestamp, NaT, iNaT\n",
      "/usr/local/miniconda3/envs/datadriver/lib/python2.7/site-packages/pandas/core/groupby.py:66: RuntimeWarning: numpy.ufunc size changed, may indicate binary incompatibility. Expected 192, got 176\n",
      "  from pandas._libs import lib, groupby as libgroupby, Timestamp, NaT, iNaT\n",
      "/usr/local/miniconda3/envs/datadriver/lib/python2.7/site-packages/pandas/core/reshape/reshape.py:30: RuntimeWarning: numpy.dtype size changed, may indicate binary incompatibility. Expected 96, got 88\n",
      "  from pandas._libs import algos as _algos, reshape as _reshape\n",
      "/usr/local/miniconda3/envs/datadriver/lib/python2.7/site-packages/pandas/core/reshape/reshape.py:30: RuntimeWarning: numpy.ufunc size changed, may indicate binary incompatibility. Expected 192, got 176\n",
      "  from pandas._libs import algos as _algos, reshape as _reshape\n",
      "/usr/local/miniconda3/envs/datadriver/lib/python2.7/site-packages/pandas/io/parsers.py:43: RuntimeWarning: numpy.dtype size changed, may indicate binary incompatibility. Expected 96, got 88\n",
      "  import pandas._libs.parsers as parsers\n",
      "/usr/local/miniconda3/envs/datadriver/lib/python2.7/site-packages/pandas/io/parsers.py:43: RuntimeWarning: numpy.ufunc size changed, may indicate binary incompatibility. Expected 192, got 176\n",
      "  import pandas._libs.parsers as parsers\n"
     ]
    }
   ],
   "source": [
    "import pandas as pd\n",
    "import urllib2\n",
    "import os"
   ]
  },
  {
   "cell_type": "code",
   "execution_count": 17,
   "metadata": {
    "collapsed": true
   },
   "outputs": [],
   "source": [
    "def clean_year_format(year):\n",
    "    nb_digits = len(str(year))\n",
    "    if nb_digits == 4:\n",
    "        return str(year)[-2:]\n",
    "    elif nb_digits == 2:\n",
    "        return str(year)\n",
    "    else:\n",
    "        raise ValueError('year must have two (ex: 14 for 2014) or four (ex: 2014) digits')"
   ]
  },
  {
   "cell_type": "code",
   "execution_count": 21,
   "metadata": {
    "collapsed": true
   },
   "outputs": [],
   "source": [
    "def check_valid_start_end(start, end):\n",
    "    return int(end) - int(start) == 1"
   ]
  },
  {
   "cell_type": "code",
   "execution_count": 29,
   "metadata": {},
   "outputs": [],
   "source": [
    "def download_french_championship_results(division_index, year_start, year_end, output_filepath):\n",
    "    start = clean_year_format(year_start)\n",
    "    end = clean_year_format(year_end)\n",
    "    if not check_valid_start_end(start, end):\n",
    "        raise ValueError('year_end must be year after year_start (ex: year_start=14 and year_end=15 '\n",
    "                         'to download results of 14/15 championship')\n",
    "    champ = 'F{}'.format(division_index)\n",
    "    url = 'http://www.football-data.co.uk/mmz4281/{}{}/{}.csv'.format(start, end, champ)\n",
    "    print('Downloading ligue{} results for year {}'.format(champ[-1], year))\n",
    "    f = urllib2.urlopen(url)\n",
    "    dir_path = os.path.dirname(output_filepath)\n",
    "    if not os.path.exists(dir_path):\n",
    "        os.mkdir(dir_path)\n",
    "    with open(output_filepath, \"wb\") as local_file:\n",
    "        local_file.write(f.read())"
   ]
  },
  {
   "cell_type": "code",
   "execution_count": 30,
   "metadata": {},
   "outputs": [],
   "source": [
    "def prepare_dataset(raw_df, inplace=True):\n",
    "    if inplace:\n",
    "        df = raw_df\n",
    "    else:\n",
    "        df = raw_df.copy()\n",
    "        \n",
    "    df['Date'] = pd.to_datetime(df['Date'], format='%d/%m/%y')\n",
    "    for col in ['Bb1X2', 'BbMxH', 'BbAvH', 'BbMxD', 'BbAvD', 'BbMxA', 'BbAvA', 'BbOU', 'BbMx>2.5', 'BbAv>2.5',\n",
    "                'BbMx<2.5', 'BbAv<2.5', 'BbAH', 'BbAHh', 'BbMxAHH', 'BbAvAHH', 'BbMxAHA', 'BbAvAHA',\n",
    "                'B365H', 'B365D', 'B365A', 'BWH', 'BWD', 'BWA', 'IWH', 'IWD', 'IWA', 'LBH',  'LBD', 'LBA',\n",
    "                'SJH', 'SJD', 'SJA', 'VCH', 'VCD', 'VCA', 'PSCH', 'PSCD', 'PSCA', 'PSH', 'PSD', 'PSA', 'WHH',\n",
    "                'WHD', 'WHA']:\n",
    "        if col in df.columns:\n",
    "            df.drop(col, axis=1, inplace=True)\n",
    "    if not inplace:\n",
    "        return df"
   ]
  },
  {
   "cell_type": "code",
   "execution_count": 37,
   "metadata": {},
   "outputs": [
    {
     "name": "stdout",
     "output_type": "stream",
     "text": [
      "Downloading ligue1 results for year 2013\n",
      "Downloading ligue1 results for year 2014\n",
      "Downloading ligue1 results for year 2015\n",
      "Downloading ligue1 results for year 2016\n",
      "Downloading ligue1 results for year 2017\n",
      "Downloading ligue2 results for year 2013\n",
      "Downloading ligue2 results for year 2014\n",
      "Downloading ligue2 results for year 2015\n",
      "Downloading ligue2 results for year 2016\n",
      "Downloading ligue2 results for year 2017\n"
     ]
    }
   ],
   "source": [
    "years = ['2013', '2014', '2015', '2016', '2017']\n",
    "champs = [1, 2]\n",
    "base_dir = os.path.dirname(os.path.abspath('__file__'))\n",
    "output_dir = '{}/data'.format(base_dir)\n",
    "\n",
    "for champ in champs:\n",
    "    for year in years:\n",
    "        year_start = year\n",
    "        year_end = str(int(year) + 1)\n",
    "        filepath = '{}/results_ligue{}_{}_{}.csv'.format(output_dir, champ, year_start, year_end)\n",
    "        download_french_championship_results(champ, year_start, year_end, filepath)\n",
    "        raw_df = pd.read_csv(filepath)\n",
    "        df = prepare_dataset(raw_df, inplace=False)\n",
    "        df.to_csv(filepath, index=False)"
   ]
  },
  {
   "cell_type": "code",
   "execution_count": null,
   "metadata": {
    "collapsed": true
   },
   "outputs": [],
   "source": []
  }
 ],
 "metadata": {
  "kernelspec": {
   "display_name": "Python [conda env:datadriver]",
   "language": "python",
   "name": "conda-env-datadriver-py"
  },
  "language_info": {
   "codemirror_mode": {
    "name": "ipython",
    "version": 2
   },
   "file_extension": ".py",
   "mimetype": "text/x-python",
   "name": "python",
   "nbconvert_exporter": "python",
   "pygments_lexer": "ipython2",
   "version": "2.7.15"
  }
 },
 "nbformat": 4,
 "nbformat_minor": 2
}
